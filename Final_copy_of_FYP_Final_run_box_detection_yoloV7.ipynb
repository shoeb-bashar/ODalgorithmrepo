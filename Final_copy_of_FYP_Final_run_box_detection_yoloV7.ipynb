{
  "nbformat": 4,
  "nbformat_minor": 0,
  "metadata": {
    "colab": {
      "provenance": [],
      "machine_shape": "hm",
      "gpuType": "L4",
      "mount_file_id": "1BXrXyVPheCtnAqHmramfej6IGO7qZ1yg",
      "authorship_tag": "ABX9TyN0kWBVwB+kOvHFRwJBG0JR"
    },
    "kernelspec": {
      "name": "python3",
      "display_name": "Python 3"
    },
    "language_info": {
      "name": "python"
    },
    "accelerator": "GPU"
  },
  "cells": [
    {
      "cell_type": "code",
      "execution_count": null,
      "metadata": {
        "id": "Xbd8IQSzeX0V"
      },
      "outputs": [],
      "source": [
        "# Download YOLOv7 repository and install requirements\n",
        "!git clone https://github.com/WongKinYiu/yolov7\n",
        "%cd yolov7\n",
        "!pip install -r requirements.txt"
      ]
    },
    {
      "cell_type": "code",
      "source": [
        "!pip install roboflow\n",
        "\n",
        "from roboflow import Roboflow\n",
        "rf = Roboflow(api_key=\"YeynZkK8Y71dBWtp7oX7\")\n",
        "project = rf.workspace(\"shoeb-bashar-4m364\").project(\"palletised_box\")\n",
        "version = project.version(1)\n",
        "dataset = version.download(\"yolov7\")"
      ],
      "metadata": {
        "id": "Xuf9jDgctKzC"
      },
      "execution_count": null,
      "outputs": []
    },
    {
      "cell_type": "code",
      "source": [
        "# download COCO starting checkpoint\n",
        "%cd /content/yolov7\n",
        "!wget https://github.com/WongKinYiu/yolov7/releases/download/v0.1/yolov7_training.pt"
      ],
      "metadata": {
        "id": "QaW38t8Ftcn9"
      },
      "execution_count": null,
      "outputs": []
    },
    {
      "cell_type": "code",
      "source": [
        "# run this cell to begin training\n",
        "%cd /content/yolov7\n",
        "!python train.py --batch 12 --epochs 100 --data {dataset.location}/data.yaml --weights 'yolov7_training.pt' --device 0\n"
      ],
      "metadata": {
        "id": "D2Niay6DtpUF"
      },
      "execution_count": null,
      "outputs": []
    },
    {
      "cell_type": "code",
      "source": [
        "# Load TensorBoard extension\n",
        "%load_ext tensorboard\n",
        "\n",
        "# Start TensorBoard\n",
        "%tensorboard --logdir=runs\n",
        "\n",
        "# Run ngrok to tunnel TensorBoard port to a public URL\n",
        "from pyngrok import ngrok\n",
        "ngrok_tunnel = ngrok.connect(6006)\n",
        "print(\"TensorBoard Link (Click to open):\", ngrok_tunnel.public_url)\n",
        "\n"
      ],
      "metadata": {
        "id": "cuIG3Mpr47eG"
      },
      "execution_count": null,
      "outputs": []
    },
    {
      "cell_type": "code",
      "source": [
        "# Run evaluation\n",
        "!python detect.py --weights runs/train/exp/weights/best.pt --conf 0.5 --source {dataset.location}/test/images\n",
        "#display inference on ALL test images\n",
        "\n",
        "import glob\n",
        "from IPython.display import Image, display\n",
        "\n",
        "i = 0\n",
        "limit = 10000 # max images to print\n",
        "for imageName in glob.glob('/content/yolov7/runs/detect/exp/*.jpg'): #assuming JPG\n",
        "    if i < limit:\n",
        "      display(Image(filename=imageName))\n",
        "      print(\"\\n\")\n",
        "    i = i + 1\n"
      ],
      "metadata": {
        "id": "ZQqy_iO8zyZ5"
      },
      "execution_count": null,
      "outputs": []
    },
    {
      "cell_type": "code",
      "source": [
        "# Run evaluation\n",
        "!python detect.py --weights runs/train/exp/weights/best.pt --conf 0.90 --source {dataset.location}/test/images\n",
        "\n",
        "# Display inference on ALL test images\n",
        "import glob\n",
        "from IPython.display import Image, display\n",
        "import json\n",
        "\n",
        "with open('/content/yolov7/runs/detect/exp/predictions.json', 'r') as f:\n",
        "    predictions = json.load(f)\n",
        "\n",
        "i = 0\n",
        "limit = 10000  # Max images to print\n",
        "for prediction in predictions:\n",
        "    if i < limit and prediction['confidence'] >= 0.90:\n",
        "        imageName = f\"/content/yolov7/runs/detect/exp/{prediction['filename']}\"\n",
        "        display(Image(filename=imageName))\n",
        "        print(\"\\n\")\n",
        "        i += 1\n"
      ],
      "metadata": {
        "id": "CyG5KULr_o3D"
      },
      "execution_count": null,
      "outputs": []
    },
    {
      "cell_type": "code",
      "source": [
        "# Run evaluation\n",
        "!python detect.py --weights runs/train/exp/weights/best.pt --conf 0.75 --source {dataset.location}/test/images\n",
        "\n",
        "# Display inference on ALL test images\n",
        "import glob\n",
        "from IPython.display import Image, display\n",
        "import json\n",
        "\n",
        "with open('/content/yolov7/runs/detect/exp/predictions.json', 'r') as f:\n",
        "    predictions = json.load(f)\n",
        "\n",
        "i = 0\n",
        "limit = 10000  # Max images to print\n",
        "for prediction in predictions:\n",
        "    if i < limit and prediction['confidence'] >= 0.75:\n",
        "        imageName = f\"/content/yolov7/runs/detect/exp/{prediction['filename']}\"\n",
        "        display(Image(filename=imageName))\n",
        "        print(\"\\n\")\n",
        "        i += 1\n"
      ],
      "metadata": {
        "id": "qdPJ1KPnApS9"
      },
      "execution_count": null,
      "outputs": []
    },
    {
      "cell_type": "code",
      "source": [
        "# Run evaluation\n",
        "!python detect.py --weights runs/train/exp/weights/best.pt --conf 0.25 --source {dataset.location}/test/images\n",
        "\n",
        "# Display inference on ALL test images\n",
        "import glob\n",
        "from IPython.display import Image, display\n",
        "import json\n",
        "\n",
        "with open('/content/yolov7/runs/detect/exp/predictions.json', 'r') as f:\n",
        "    predictions = json.load(f)\n",
        "\n",
        "i = 0\n",
        "limit = 10000  # Max images to print\n",
        "for prediction in predictions:\n",
        "    if i < limit and prediction['confidence'] >= 0.25:\n",
        "        imageName = f\"/content/yolov7/runs/detect/exp/{prediction['filename']}\"\n",
        "        display(Image(filename=imageName))\n",
        "        print(\"\\n\")\n",
        "        i += 1\n"
      ],
      "metadata": {
        "id": "OAxQBl3QBOEJ"
      },
      "execution_count": null,
      "outputs": []
    },
    {
      "cell_type": "code",
      "source": [
        "# Run evaluation\n",
        "!python detect.py --weights runs/train/exp/weights/best.pt --conf 0.50 --source {dataset.location}/test/images\n",
        "\n",
        "# Display inference on ALL test images\n",
        "import glob\n",
        "from IPython.display import Image, display\n",
        "import json\n",
        "\n",
        "with open('/content/yolov7/runs/detect/exp/predictions.json', 'r') as f:\n",
        "    predictions = json.load(f)\n",
        "\n",
        "i = 0\n",
        "limit = 10000  # Max images to print\n",
        "for prediction in predictions:\n",
        "    if i < limit and prediction['confidence'] >= 0.50:\n",
        "        imageName = f\"/content/yolov7/runs/detect/exp/{prediction['filename']}\"\n",
        "        display(Image(filename=imageName))\n",
        "        print(\"\\n\")\n",
        "        i += 1\n"
      ],
      "metadata": {
        "id": "fzXU6BSHBXel"
      },
      "execution_count": null,
      "outputs": []
    },
    {
      "cell_type": "code",
      "source": [
        "import shutil\n",
        "import os\n",
        "\n",
        "directory_to_zip = '/content/yolov7/runs/detect/conf0.25'\n",
        "\n",
        "zip_file_name = '/content/conf0.25.zip'\n",
        "\n",
        "shutil.make_archive(zip_file_name.split('.')[0], 'zip', directory_to_zip)\n",
        "\n",
        "shutil.move(zip_file_name.split('.')[0] + '.zip', zip_file_name)\n",
        "\n",
        "from google.colab import files\n",
        "files.download(zip_file_name)\n"
      ],
      "metadata": {
        "colab": {
          "base_uri": "https://localhost:8080/",
          "height": 17
        },
        "id": "mkIJyj0QCUf5",
        "outputId": "98509103-d37b-493d-bcc5-4304e2f3b381"
      },
      "execution_count": null,
      "outputs": [
        {
          "output_type": "display_data",
          "data": {
            "text/plain": [
              "<IPython.core.display.Javascript object>"
            ],
            "application/javascript": [
              "\n",
              "    async function download(id, filename, size) {\n",
              "      if (!google.colab.kernel.accessAllowed) {\n",
              "        return;\n",
              "      }\n",
              "      const div = document.createElement('div');\n",
              "      const label = document.createElement('label');\n",
              "      label.textContent = `Downloading \"${filename}\": `;\n",
              "      div.appendChild(label);\n",
              "      const progress = document.createElement('progress');\n",
              "      progress.max = size;\n",
              "      div.appendChild(progress);\n",
              "      document.body.appendChild(div);\n",
              "\n",
              "      const buffers = [];\n",
              "      let downloaded = 0;\n",
              "\n",
              "      const channel = await google.colab.kernel.comms.open(id);\n",
              "      // Send a message to notify the kernel that we're ready.\n",
              "      channel.send({})\n",
              "\n",
              "      for await (const message of channel.messages) {\n",
              "        // Send a message to notify the kernel that we're ready.\n",
              "        channel.send({})\n",
              "        if (message.buffers) {\n",
              "          for (const buffer of message.buffers) {\n",
              "            buffers.push(buffer);\n",
              "            downloaded += buffer.byteLength;\n",
              "            progress.value = downloaded;\n",
              "          }\n",
              "        }\n",
              "      }\n",
              "      const blob = new Blob(buffers, {type: 'application/binary'});\n",
              "      const a = document.createElement('a');\n",
              "      a.href = window.URL.createObjectURL(blob);\n",
              "      a.download = filename;\n",
              "      div.appendChild(a);\n",
              "      a.click();\n",
              "      div.remove();\n",
              "    }\n",
              "  "
            ]
          },
          "metadata": {}
        },
        {
          "output_type": "display_data",
          "data": {
            "text/plain": [
              "<IPython.core.display.Javascript object>"
            ],
            "application/javascript": [
              "download(\"download_48c72bee-878e-43a3-a31e-fec83ff04a85\", \"conf0.25.zip\", 1587813)"
            ]
          },
          "metadata": {}
        }
      ]
    },
    {
      "cell_type": "code",
      "source": [
        "\n",
        "confidence_thresholds = [0.25, 0.5, 0.75, 0.90]\n",
        "\n",
        "for threshold in confidence_thresholds:\n",
        "    !python detect.py --weights runs/train/exp/weights/best.pt --conf {threshold} --source {dataset.location}/test/images\n"
      ],
      "metadata": {
        "id": "0dNnqrMvG80G"
      },
      "execution_count": null,
      "outputs": []
    },
    {
      "cell_type": "code",
      "source": [
        "import shutil\n",
        "import os\n",
        "from google.colab import files\n",
        "\n",
        "\n",
        "directories_to_zip = [\n",
        "    '/content/yolov7/runs/detect/conf0.5',\n",
        "    '/content/yolov7/runs/detect/conf0.75',\n",
        "    '/content/yolov7/runs/detect/conf0.90'\n",
        "]\n",
        "\n",
        "\n",
        "zip_file_names = ['conf0.5.zip', 'conf0.75.zip', 'conf0.90.zip']\n",
        "\n",
        "\n",
        "for directory, zip_file_name in zip(directories_to_zip, zip_file_names):\n",
        "\n",
        "    shutil.make_archive(zip_file_name.split('.')[0], 'zip', directory)\n",
        "\n",
        "\n",
        "    shutil.move(zip_file_name.split('.')[0] + '.zip', zip_file_name)\n",
        "\n",
        "\n",
        "    files.download(zip_file_name)\n"
      ],
      "metadata": {
        "id": "xJHfYgJCCzWk"
      },
      "execution_count": null,
      "outputs": []
    }
  ]
}